{
 "cells": [
  {
   "cell_type": "code",
   "execution_count": 1,
   "metadata": {},
   "outputs": [],
   "source": [
    "import numpy as np\n",
    "import pandas as pd"
   ]
  },
  {
   "cell_type": "code",
   "execution_count": 2,
   "metadata": {},
   "outputs": [],
   "source": [
    "#data = np.random.random((3,3))\n",
    "data = pd.read_csv('https://gist.githubusercontent.com/netj/8836201/raw/6f9306ad21398ea43cba4f7d537619d0e07d5ae3/iris.csv')\n",
    "data = data.select_dtypes(include='number').values\n",
    "#cov = np.dot(data.T, data)"
   ]
  },
  {
   "cell_type": "code",
   "execution_count": 3,
   "metadata": {},
   "outputs": [],
   "source": [
    "def sort_pairs(eigenvalues, eigenvectors):\n",
    "    eigenpairs = [[0,[]] for _ in range(len(eigenvalues))]\n",
    "    for i in range(len(eigenvalues)):\n",
    "        if eigenvalues[i] < 0:\n",
    "            eigenpairs[i][0] = -1*eigenvalues[i]\n",
    "            eigenpairs[i][1] = -1*eigenvectors[i]\n",
    "        else:\n",
    "            eigenpairs[i][0] = eigenvalues[i]\n",
    "            eigenpairs[i][1] = eigenvectors[i]\n",
    "    eigenpairs.sort(key=lambda eigpair: eigpair[0], reverse=True)\n",
    "    eigenvalues, eigenvectors = [], []\n",
    "    for eigenpair in eigenpairs:\n",
    "        eigenvalues.append(eigenpair[0])\n",
    "        eigenvectors.append(np.array(eigenpair[1]))\n",
    "    return np.array(eigenvalues), np.array(eigenvectors)\n",
    "#do poprawki\n",
    "#def sort_pairs(eigenvalues, eigenvectors):\n",
    "    #return eigenvalues, eigenvectors"
   ]
  },
  {
   "cell_type": "markdown",
   "metadata": {},
   "source": [
    "<h2>numpy - Eigen decomposition</h2>"
   ]
  },
  {
   "cell_type": "code",
   "execution_count": 4,
   "metadata": {},
   "outputs": [],
   "source": [
    "def check_symmetric(a, tol=1e-8):\n",
    "    return np.allclose(a, a.T, atol=tol)\n",
    "\n",
    "def eigen_decomposition(A):\n",
    "    if check_symmetric(A):\n",
    "        eigenvalues, eigenvectors = np.linalg.eigh(A)\n",
    "    else: \n",
    "        eigenvalues, eigenvectors = np.linalg.eig(A)\n",
    "    return eigenvalues, eigenvectors"
   ]
  },
  {
   "cell_type": "markdown",
   "metadata": {},
   "source": [
    "<h2>numpy - SVD</h2>"
   ]
  },
  {
   "cell_type": "code",
   "execution_count": 86,
   "metadata": {},
   "outputs": [],
   "source": [
    "def svd_decomposition(A, gen_HHtransposed=False): #do usuniecia debug\n",
    "    u,s,v = np.linalg.svd(A)\n",
    "    s*=s\n",
    "    if gen_HHtransposed:\n",
    "        zeros = np.zeros((u.shape[0]-len(s),))\n",
    "        print(zeros.shape, s.shape)\n",
    "        s = np.concatenate((s, zeros))\n",
    "        return s, u\n",
    "    else:\n",
    "        return s, v.T\n",
    "    \n",
    "#sprawdzić czy poprawne zwracanie u/v"
   ]
  },
  {
   "cell_type": "markdown",
   "metadata": {},
   "source": [
    "<h2>numpy - QR</h2>"
   ]
  },
  {
   "cell_type": "code",
   "execution_count": 83,
   "metadata": {},
   "outputs": [],
   "source": [
    "def qr_decomposition(A):\n",
    "    X = A\n",
    "    D = np.diag([1 for _ in range(A.shape[1])])\n",
    "    #i = 0\n",
    "    while not np.allclose(X, np.triu(X)):\n",
    "        Q, R = np.linalg.qr(X)\n",
    "        D = np.dot(D, Q)\n",
    "        X = np.dot(R, Q)\n",
    "        #i += 1\n",
    "    #print(i)\n",
    "    return np.diagonal(X), D\n",
    "\n",
    "# probelmy z wydajnością. przeanalizować https://link-1springer-1com-1htv89mdl09c7.hansolo.bg.ug.edu.pl/article/10.1007/s13042-012-0131-7"
   ]
  },
  {
   "cell_type": "markdown",
   "metadata": {},
   "source": [
    "<h2>Testy poprawności</h2>"
   ]
  },
  {
   "cell_type": "markdown",
   "metadata": {},
   "source": [
    "<h3>H<sup>T</sup>H</h3>"
   ]
  },
  {
   "cell_type": "code",
   "execution_count": 43,
   "metadata": {},
   "outputs": [
    {
     "data": {
      "text/plain": [
       "(4, 4)"
      ]
     },
     "execution_count": 43,
     "metadata": {},
     "output_type": "execute_result"
    }
   ],
   "source": [
    "cov = np.dot(data.T, data)\n",
    "cov.shape"
   ]
  },
  {
   "cell_type": "markdown",
   "metadata": {},
   "source": [
    "<h4>Eigendecomposition</h4>"
   ]
  },
  {
   "cell_type": "code",
   "execution_count": 44,
   "metadata": {},
   "outputs": [],
   "source": [
    "evalsE, evecsE = eigen_decomposition(cov)"
   ]
  },
  {
   "cell_type": "raw",
   "metadata": {},
   "source": [
    "evalsE, evecsE = sort_pairs(evalsE, evecsE)"
   ]
  },
  {
   "cell_type": "markdown",
   "metadata": {},
   "source": [
    "<h4>QR decomposition</h4>"
   ]
  },
  {
   "cell_type": "code",
   "execution_count": 45,
   "metadata": {},
   "outputs": [],
   "source": [
    "evalsQ, evecsQ = qr_decomposition(cov)"
   ]
  },
  {
   "cell_type": "raw",
   "metadata": {},
   "source": [
    "evalsQ, evecsQ = sort_pairs(evalsQ, evecsQ)"
   ]
  },
  {
   "cell_type": "markdown",
   "metadata": {},
   "source": [
    "<h4>Singular value decomposition</h4>"
   ]
  },
  {
   "cell_type": "code",
   "execution_count": 54,
   "metadata": {},
   "outputs": [],
   "source": [
    "evalsS, evecsS = svd_decomposition(data)"
   ]
  },
  {
   "cell_type": "raw",
   "metadata": {},
   "source": [
    "evalsS, evecsS = sort_pairs(evalsS, evecsS)"
   ]
  },
  {
   "cell_type": "markdown",
   "metadata": {},
   "source": [
    "<h5>Eigenvalues MSE</h5>"
   ]
  },
  {
   "cell_type": "code",
   "execution_count": 55,
   "metadata": {},
   "outputs": [
    {
     "data": {
      "text/plain": [
       "1.8496721411861048e-24"
      ]
     },
     "execution_count": 55,
     "metadata": {},
     "output_type": "execute_result"
    }
   ],
   "source": [
    "((np.array(sorted(evalsE)) - np.array(sorted(evalsQ)))**2).mean(axis=None)"
   ]
  },
  {
   "cell_type": "code",
   "execution_count": 56,
   "metadata": {},
   "outputs": [
    {
     "data": {
      "text/plain": [
       "8.42528887540234e-25"
      ]
     },
     "execution_count": 56,
     "metadata": {},
     "output_type": "execute_result"
    }
   ],
   "source": [
    "((np.array(sorted(evalsE)) - np.array(sorted(evalsS)))**2).mean(axis=None)"
   ]
  },
  {
   "cell_type": "code",
   "execution_count": 57,
   "metadata": {},
   "outputs": [
    {
     "data": {
      "text/plain": [
       "8.584709775738454e-25"
      ]
     },
     "execution_count": 57,
     "metadata": {},
     "output_type": "execute_result"
    }
   ],
   "source": [
    "((np.array(sorted(evalsQ)) - np.array(sorted(evalsS)))**2).mean(axis=None)"
   ]
  },
  {
   "cell_type": "markdown",
   "metadata": {},
   "source": [
    "<h5>Decomp MSE</h5>"
   ]
  },
  {
   "cell_type": "code",
   "execution_count": 58,
   "metadata": {},
   "outputs": [
    {
     "data": {
      "text/plain": [
       "9.208846663188003e-25"
      ]
     },
     "execution_count": 58,
     "metadata": {},
     "output_type": "execute_result"
    }
   ],
   "source": [
    "((evecsE.dot(np.diag(evalsE)).dot(np.linalg.inv(evecsE)) - cov)**2).mean(axis=None)"
   ]
  },
  {
   "cell_type": "code",
   "execution_count": 59,
   "metadata": {},
   "outputs": [
    {
     "data": {
      "text/plain": [
       "3.1083896456094243e-24"
      ]
     },
     "execution_count": 59,
     "metadata": {},
     "output_type": "execute_result"
    }
   ],
   "source": [
    "((evecsS.dot(np.diag(evalsS)).dot(np.linalg.inv(evecsS)) - cov)**2).mean(axis=None)"
   ]
  },
  {
   "cell_type": "code",
   "execution_count": 61,
   "metadata": {},
   "outputs": [
    {
     "data": {
      "text/plain": [
       "5.118613138086932e-18"
      ]
     },
     "execution_count": 61,
     "metadata": {},
     "output_type": "execute_result"
    }
   ],
   "source": [
    "((evecsQ.dot(np.diag(evalsQ)).dot(np.linalg.inv(evecsQ)) - cov)**2).mean(axis=None)"
   ]
  },
  {
   "cell_type": "markdown",
   "metadata": {},
   "source": [
    "<h3>HH<sup>T</sup></h3>"
   ]
  },
  {
   "cell_type": "code",
   "execution_count": 62,
   "metadata": {},
   "outputs": [
    {
     "data": {
      "text/plain": [
       "(150, 150)"
      ]
     },
     "execution_count": 62,
     "metadata": {},
     "output_type": "execute_result"
    }
   ],
   "source": [
    "cov = np.dot(data, data.T)\n",
    "cov.shape"
   ]
  },
  {
   "cell_type": "markdown",
   "metadata": {},
   "source": [
    "<h4>Eigendecomposition</h4>"
   ]
  },
  {
   "cell_type": "code",
   "execution_count": 76,
   "metadata": {},
   "outputs": [
    {
     "data": {
      "text/plain": [
       "((150,), (150, 150))"
      ]
     },
     "execution_count": 76,
     "metadata": {},
     "output_type": "execute_result"
    }
   ],
   "source": [
    "evalsE, evecsE = eigen_decomposition(cov)\n",
    "evalsE.shape, evecsE.shape"
   ]
  },
  {
   "cell_type": "raw",
   "metadata": {},
   "source": [
    "evalsE, evecsE = sort_pairs(evalsE, evecsE)"
   ]
  },
  {
   "cell_type": "markdown",
   "metadata": {},
   "source": [
    "<h4>QR decomposition</h4>"
   ]
  },
  {
   "cell_type": "code",
   "execution_count": 80,
   "metadata": {},
   "outputs": [],
   "source": [
    "evalsQ, evecsQ = qr_decomposition(cov)"
   ]
  },
  {
   "cell_type": "raw",
   "metadata": {},
   "source": [
    "evalsQ, evecsQ = sort_pairs(evalsQ, evecsQ)"
   ]
  },
  {
   "cell_type": "markdown",
   "metadata": {},
   "source": [
    "<h4>Singular value decomposition</h4>"
   ]
  },
  {
   "cell_type": "code",
   "execution_count": 87,
   "metadata": {},
   "outputs": [
    {
     "name": "stdout",
     "output_type": "stream",
     "text": [
      "(146,) (4,)\n"
     ]
    }
   ],
   "source": [
    "evalsS, evecsS = svd_decomposition(data, True)"
   ]
  },
  {
   "cell_type": "raw",
   "metadata": {},
   "source": [
    "evalsS, evecsS = sort_pairs(evalsS, evecsS)"
   ]
  },
  {
   "cell_type": "markdown",
   "metadata": {},
   "source": [
    "<h5>Eigenvalues MSE</h5>"
   ]
  },
  {
   "cell_type": "code",
   "execution_count": 96,
   "metadata": {},
   "outputs": [
    {
     "data": {
      "text/plain": [
       "2.1358755921609817e-24"
      ]
     },
     "execution_count": 96,
     "metadata": {},
     "output_type": "execute_result"
    }
   ],
   "source": [
    "((np.array(sorted(abs(evalsE))) - np.array(sorted(abs(evalsQ))))**2).mean(axis=None)"
   ]
  },
  {
   "cell_type": "code",
   "execution_count": 97,
   "metadata": {},
   "outputs": [
    {
     "data": {
      "text/plain": [
       "2.4302324110042573e-24"
      ]
     },
     "execution_count": 97,
     "metadata": {},
     "output_type": "execute_result"
    }
   ],
   "source": [
    "((np.array(sorted(abs(evalsE))) - np.array(sorted(abs(evalsS))))**2).mean(axis=None) #problem. SVD generuje S tylko dla wartości > 0."
   ]
  },
  {
   "cell_type": "code",
   "execution_count": 98,
   "metadata": {},
   "outputs": [
    {
     "data": {
      "text/plain": [
       "9.075115810946327e-26"
      ]
     },
     "execution_count": 98,
     "metadata": {},
     "output_type": "execute_result"
    }
   ],
   "source": [
    "((np.array(sorted(abs(evalsQ))) - np.array(sorted(abs(evalsS))))**2).mean(axis=None) #problem. SVD generuje S tylko dla wartości > 0."
   ]
  },
  {
   "cell_type": "markdown",
   "metadata": {},
   "source": [
    "<h5>Decomp MSE</h5>"
   ]
  },
  {
   "cell_type": "code",
   "execution_count": 99,
   "metadata": {},
   "outputs": [
    {
     "data": {
      "text/plain": [
       "4.4593834356810356e-26"
      ]
     },
     "execution_count": 99,
     "metadata": {},
     "output_type": "execute_result"
    }
   ],
   "source": [
    "((evecsE.dot(np.diag(evalsE)).dot(np.linalg.inv(evecsE)) - cov)**2).mean(axis=None)"
   ]
  },
  {
   "cell_type": "code",
   "execution_count": 101,
   "metadata": {},
   "outputs": [
    {
     "data": {
      "text/plain": [
       "5.0755274739983593e-26"
      ]
     },
     "execution_count": 101,
     "metadata": {},
     "output_type": "execute_result"
    }
   ],
   "source": [
    "((evecsS.dot(np.diag(evalsS)).dot(np.linalg.inv(evecsS)) - cov)**2).mean(axis=None)"
   ]
  },
  {
   "cell_type": "code",
   "execution_count": 100,
   "metadata": {},
   "outputs": [
    {
     "data": {
      "text/plain": [
       "4.799506414789542e-21"
      ]
     },
     "execution_count": 100,
     "metadata": {},
     "output_type": "execute_result"
    }
   ],
   "source": [
    "((evecsQ.dot(np.diag(evalsQ)).dot(np.linalg.inv(evecsQ)) - cov)**2).mean(axis=None)"
   ]
  },
  {
   "cell_type": "markdown",
   "metadata": {},
   "source": [
    "<h2>Wydajność</h2>"
   ]
  },
  {
   "cell_type": "markdown",
   "metadata": {},
   "source": [
    "<h4>m > n</h4>"
   ]
  },
  {
   "cell_type": "code",
   "execution_count": null,
   "metadata": {},
   "outputs": [],
   "source": [
    "A = np.random.random((10,3))"
   ]
  },
  {
   "cell_type": "code",
   "execution_count": null,
   "metadata": {},
   "outputs": [],
   "source": [
    "%%timeit -n 100\n",
    "cov = np.dot(A.T, A)\n",
    "eigen_decomposition(cov)"
   ]
  },
  {
   "cell_type": "code",
   "execution_count": null,
   "metadata": {},
   "outputs": [],
   "source": [
    "%%timeit -n 100\n",
    "svd_decomposition(A)"
   ]
  },
  {
   "cell_type": "raw",
   "metadata": {},
   "source": [
    "%%timeit -n 100\n",
    "cov = np.dot(A.T, A)\n",
    "qr_decomposition(cov)"
   ]
  },
  {
   "cell_type": "code",
   "execution_count": null,
   "metadata": {},
   "outputs": [],
   "source": [
    "A = np.random.random((100,4))"
   ]
  },
  {
   "cell_type": "code",
   "execution_count": null,
   "metadata": {},
   "outputs": [],
   "source": [
    "%%timeit -n 100\n",
    "cov = np.dot(A.T, A)\n",
    "eigen_decomposition(cov)"
   ]
  },
  {
   "cell_type": "code",
   "execution_count": null,
   "metadata": {},
   "outputs": [],
   "source": [
    "%%timeit -n 100\n",
    "svd_decomposition(A)"
   ]
  },
  {
   "cell_type": "raw",
   "metadata": {},
   "source": [
    "%%timeit -n 100\n",
    "cov = np.dot(A.T, A)\n",
    "qr_decomposition(cov)"
   ]
  },
  {
   "cell_type": "code",
   "execution_count": null,
   "metadata": {},
   "outputs": [],
   "source": [
    "A = np.random.random((500,20))"
   ]
  },
  {
   "cell_type": "code",
   "execution_count": null,
   "metadata": {},
   "outputs": [],
   "source": [
    "%%timeit -n 100\n",
    "cov = np.dot(A.T, A)\n",
    "eigen_decomposition(cov)"
   ]
  },
  {
   "cell_type": "code",
   "execution_count": null,
   "metadata": {},
   "outputs": [],
   "source": [
    "%%timeit -n 100\n",
    "svd_decomposition(A)"
   ]
  },
  {
   "cell_type": "raw",
   "metadata": {},
   "source": [
    "%%timeit -n 100\n",
    "cov = np.dot(A.T, A)\n",
    "qr_decomposition(cov)"
   ]
  },
  {
   "cell_type": "markdown",
   "metadata": {},
   "source": [
    "<h4>m < n</h4>"
   ]
  },
  {
   "cell_type": "code",
   "execution_count": null,
   "metadata": {},
   "outputs": [],
   "source": [
    "A = np.random.random((3,10))"
   ]
  },
  {
   "cell_type": "code",
   "execution_count": null,
   "metadata": {},
   "outputs": [],
   "source": [
    "%%timeit -n 100\n",
    "cov = np.dot(A.T, A)\n",
    "eigen_decomposition(cov)"
   ]
  },
  {
   "cell_type": "code",
   "execution_count": null,
   "metadata": {},
   "outputs": [],
   "source": [
    "%%timeit -n 100\n",
    "svd_decomposition(A)"
   ]
  },
  {
   "cell_type": "raw",
   "metadata": {},
   "source": [
    "%%timeit -n 100\n",
    "cov = np.dot(A.T, A)\n",
    "qr_decomposition(cov)"
   ]
  },
  {
   "cell_type": "code",
   "execution_count": null,
   "metadata": {},
   "outputs": [],
   "source": [
    "A = np.random.random((4,100))"
   ]
  },
  {
   "cell_type": "code",
   "execution_count": null,
   "metadata": {},
   "outputs": [],
   "source": [
    "%%timeit -n 100\n",
    "cov = np.dot(A.T, A)\n",
    "eigen_decomposition(cov)"
   ]
  },
  {
   "cell_type": "code",
   "execution_count": null,
   "metadata": {},
   "outputs": [],
   "source": [
    "%%timeit -n 100\n",
    "svd_decomposition(A)"
   ]
  },
  {
   "cell_type": "raw",
   "metadata": {},
   "source": [
    "%%timeit -n 100\n",
    "cov = np.dot(A.T, A)\n",
    "qr_decomposition(cov)"
   ]
  },
  {
   "cell_type": "code",
   "execution_count": null,
   "metadata": {},
   "outputs": [],
   "source": [
    "A = np.random.random((20,500))"
   ]
  },
  {
   "cell_type": "code",
   "execution_count": null,
   "metadata": {},
   "outputs": [],
   "source": [
    "%%timeit -n 100\n",
    "cov = np.dot(A.T, A)\n",
    "eigen_decomposition(cov)"
   ]
  },
  {
   "cell_type": "code",
   "execution_count": null,
   "metadata": {},
   "outputs": [],
   "source": [
    "%%timeit -n 100\n",
    "svd_decomposition(A)"
   ]
  },
  {
   "cell_type": "raw",
   "metadata": {},
   "source": [
    "%%timeit -n 100\n",
    "cov = np.dot(A.T, A)\n",
    "qr_decomposition(cov)"
   ]
  }
 ],
 "metadata": {
  "kernelspec": {
   "display_name": "Python 3",
   "language": "python",
   "name": "python3"
  },
  "language_info": {
   "codemirror_mode": {
    "name": "ipython",
    "version": 3
   },
   "file_extension": ".py",
   "mimetype": "text/x-python",
   "name": "python",
   "nbconvert_exporter": "python",
   "pygments_lexer": "ipython3",
   "version": "3.5.3"
  }
 },
 "nbformat": 4,
 "nbformat_minor": 2
}
