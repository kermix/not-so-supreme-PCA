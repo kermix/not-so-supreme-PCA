{
 "cells": [
  {
   "cell_type": "code",
   "execution_count": 1,
   "metadata": {},
   "outputs": [],
   "source": [
    "import numpy as np\n",
    "import pandas as pd"
   ]
  },
  {
   "cell_type": "code",
   "execution_count": 60,
   "metadata": {},
   "outputs": [],
   "source": [
    "data = np.random.random((4,2))\n",
    "#data = pd.read_csv('https://gist.githubusercontent.com/netj/8836201/raw/6f9306ad21398ea43cba4f7d537619d0e07d5ae3/iris.csv')\n",
    "#data = data.select_dtypes(include='number').values\n",
    "#cov = np.dot(data.T, data)"
   ]
  },
  {
   "cell_type": "code",
   "execution_count": 208,
   "metadata": {},
   "outputs": [
    {
     "data": {
      "text/plain": [
       "((4, 4), (2,), (2, 2))"
      ]
     },
     "execution_count": 208,
     "metadata": {},
     "output_type": "execute_result"
    }
   ],
   "source": [
    "u,s,v = np.linalg.svd(data)\n",
    "u.shape, s.shape, v.shape"
   ]
  },
  {
   "cell_type": "code",
   "execution_count": 207,
   "metadata": {},
   "outputs": [
    {
     "data": {
      "text/plain": [
       "array([[0.14363165, 0.29411758, 0.08893572, 0.21933203],\n",
       "       [0.29411758, 1.26240081, 0.33340141, 1.09314572],\n",
       "       [0.08893572, 0.33340141, 0.08973944, 0.28340152],\n",
       "       [0.21933203, 1.09314572, 0.28340152, 0.96322308]])"
      ]
     },
     "execution_count": 207,
     "metadata": {},
     "output_type": "execute_result"
    }
   ],
   "source": [
    "u.dot(np.diag(np.concatenate((s*s, np.array([0,0]))))).dot(np.linalg.inv(u))"
   ]
  },
  {
   "cell_type": "code",
   "execution_count": 202,
   "metadata": {},
   "outputs": [
    {
     "data": {
      "text/plain": [
       "array([[0.14363165, 0.29411758, 0.08893572, 0.21933203],\n",
       "       [0.29411758, 1.26240081, 0.33340141, 1.09314572],\n",
       "       [0.08893572, 0.33340141, 0.08973944, 0.28340152],\n",
       "       [0.21933203, 1.09314572, 0.28340152, 0.96322308]])"
      ]
     },
     "execution_count": 202,
     "metadata": {},
     "output_type": "execute_result"
    }
   ],
   "source": [
    "np.dot(data, data.T)"
   ]
  },
  {
   "cell_type": "code",
   "execution_count": 209,
   "metadata": {},
   "outputs": [
    {
     "data": {
      "text/plain": [
       "5.705567460247186e-32"
      ]
     },
     "execution_count": 209,
     "metadata": {},
     "output_type": "execute_result"
    }
   ],
   "source": [
    "((u.dot(np.diag(np.concatenate((s*s, np.array([0,0]))))).dot(np.linalg.inv(u)) - np.dot(data, data.T))**2).mean(axis=None)"
   ]
  },
  {
   "cell_type": "code",
   "execution_count": 215,
   "metadata": {},
   "outputs": [
    {
     "data": {
      "text/plain": [
       "array([[1.82235369, 0.96999384],\n",
       "       [0.96999384, 0.63664128]])"
      ]
     },
     "execution_count": 215,
     "metadata": {},
     "output_type": "execute_result"
    }
   ],
   "source": [
    "v.T.dot(np.diag((s*s))).dot(np.linalg.inv(v.T))"
   ]
  },
  {
   "cell_type": "code",
   "execution_count": 214,
   "metadata": {},
   "outputs": [
    {
     "data": {
      "text/plain": [
       "array([[1.82235369, 0.96999384],\n",
       "       [0.96999384, 0.63664128]])"
      ]
     },
     "execution_count": 214,
     "metadata": {},
     "output_type": "execute_result"
    }
   ],
   "source": [
    "np.dot(data.T, data)"
   ]
  },
  {
   "cell_type": "code",
   "execution_count": 216,
   "metadata": {},
   "outputs": [
    {
     "data": {
      "text/plain": [
       "1.232595164407831e-31"
      ]
     },
     "execution_count": 216,
     "metadata": {},
     "output_type": "execute_result"
    }
   ],
   "source": [
    "((v.T.dot(np.diag((s*s))).dot(np.linalg.inv(v.T)) - np.dot(data.T, data))**2).mean(axis=None)"
   ]
  },
  {
   "cell_type": "code",
   "execution_count": 154,
   "metadata": {},
   "outputs": [],
   "source": [
    "def sort_pairs(eigenvalues, eigenvectors):\n",
    "    eigenpairs = [[0,[]] for _ in range(len(eigenvalues))]\n",
    "    for i in range(len(eigenvalues)):\n",
    "        if eigenvalues[i] < 0:\n",
    "            eigenpairs[i][0] = -1*eigenvalues[i]\n",
    "            eigenpairs[i][1] = -1*eigenvectors[i]\n",
    "        else:\n",
    "            eigenpairs[i][0] = eigenvalues[i]\n",
    "            eigenpairs[i][1] = eigenvectors[i]\n",
    "    eigenpairs.sort(key=lambda eigpair: eigpair[0], reverse=True)\n",
    "    eigenvalues, eigenvectors = [], []\n",
    "    for eigenpair in eigenpairs:\n",
    "        eigenvalues.append(eigenpair[0])\n",
    "        eigenvectors.append(np.array(eigenpair[1]))\n",
    "    return np.array(eigenvalues), np.array(eigenvectors)"
   ]
  },
  {
   "cell_type": "code",
   "execution_count": 174,
   "metadata": {},
   "outputs": [],
   "source": [
    "L, V = np.linalg.eigh(np.dot(data, data.T))"
   ]
  },
  {
   "cell_type": "code",
   "execution_count": 175,
   "metadata": {},
   "outputs": [
    {
     "name": "stdout",
     "output_type": "stream",
     "text": [
      "[-4.46665768e-16 -1.13012299e-17  9.26744909e-02  2.36632048e+00]\n",
      "[[-0.33846426  0.13734984 -0.91582013 -0.16688455]\n",
      " [ 0.63797604  0.23478227 -0.06749402 -0.73027968]\n",
      " [ 0.11772093 -0.96218411 -0.15275383 -0.19237926]\n",
      " [-0.68159394 -0.01463006  0.36521816 -0.63390169]]\n"
     ]
    }
   ],
   "source": [
    "print(L)\n",
    "print(V)"
   ]
  },
  {
   "cell_type": "code",
   "execution_count": 176,
   "metadata": {},
   "outputs": [
    {
     "name": "stdout",
     "output_type": "stream",
     "text": [
      "[2.36632048e+00 9.26744909e-02 4.46665768e-16 1.13012299e-17]\n",
      "[[-0.68159394 -0.01463006  0.36521816 -0.63390169]\n",
      " [ 0.11772093 -0.96218411 -0.15275383 -0.19237926]\n",
      " [ 0.33846426 -0.13734984  0.91582013  0.16688455]\n",
      " [-0.63797604 -0.23478227  0.06749402  0.73027968]]\n"
     ]
    }
   ],
   "source": [
    "L, V = sort_pairs(L, V)\n",
    "print(L)\n",
    "print(V)"
   ]
  },
  {
   "cell_type": "code",
   "execution_count": 177,
   "metadata": {},
   "outputs": [
    {
     "name": "stdout",
     "output_type": "stream",
     "text": [
      "[0.09267449 2.36632048]\n",
      "[[ 0.48913053 -0.8722106 ]\n",
      " [-0.8722106  -0.48913053]]\n"
     ]
    }
   ],
   "source": [
    "L, V = np.linalg.eigh(np.dot(data.T, data))\n",
    "print(L)\n",
    "print(V)"
   ]
  },
  {
   "cell_type": "code",
   "execution_count": 178,
   "metadata": {},
   "outputs": [],
   "source": [
    "L, V = sort_pairs(L, V)"
   ]
  },
  {
   "cell_type": "code",
   "execution_count": 179,
   "metadata": {},
   "outputs": [
    {
     "name": "stdout",
     "output_type": "stream",
     "text": [
      "[2.36632048 0.09267449]\n",
      "[[-0.8722106  -0.48913053]\n",
      " [ 0.48913053 -0.8722106 ]]\n"
     ]
    }
   ],
   "source": [
    "print(L)\n",
    "print(V)"
   ]
  },
  {
   "cell_type": "code",
   "execution_count": null,
   "metadata": {},
   "outputs": [],
   "source": []
  },
  {
   "cell_type": "code",
   "execution_count": 191,
   "metadata": {},
   "outputs": [
    {
     "data": {
      "text/plain": [
       "array([[0.14363165, 0.29411758, 0.08893572, 0.21933203],\n",
       "       [0.29411758, 1.26240081, 0.33340141, 1.09314572],\n",
       "       [0.08893572, 0.33340141, 0.08973944, 0.28340152],\n",
       "       [0.21933203, 1.09314572, 0.28340152, 0.96322308]])"
      ]
     },
     "execution_count": 191,
     "metadata": {},
     "output_type": "execute_result"
    }
   ],
   "source": [
    "`"
   ]
  },
  {
   "cell_type": "code",
   "execution_count": null,
   "metadata": {},
   "outputs": [],
   "source": []
  }
 ],
 "metadata": {
  "kernelspec": {
   "display_name": "Python 3",
   "language": "python",
   "name": "python3"
  },
  "language_info": {
   "codemirror_mode": {
    "name": "ipython",
    "version": 3
   },
   "file_extension": ".py",
   "mimetype": "text/x-python",
   "name": "python",
   "nbconvert_exporter": "python",
   "pygments_lexer": "ipython3",
   "version": "3.5.3"
  }
 },
 "nbformat": 4,
 "nbformat_minor": 2
}
