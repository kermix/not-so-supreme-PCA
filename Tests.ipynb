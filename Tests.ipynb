{
 "cells": [
  {
   "cell_type": "code",
   "execution_count": 9,
   "metadata": {},
   "outputs": [],
   "source": [
    "import numpy as np\n",
    "import pandas as pd"
   ]
  },
  {
   "cell_type": "code",
   "execution_count": 10,
   "metadata": {},
   "outputs": [],
   "source": [
    "data = np.random.random((10,5))\n",
    "#data = pd.read_csv('https://gist.githubusercontent.com/netj/8836201/raw/6f9306ad21398ea43cba4f7d537619d0e07d5ae3/iris.csv')\n",
    "#data = data.select_dtypes(include='number').values\n",
    "#cov = np.dot(data.T, data)"
   ]
  },
  {
   "cell_type": "code",
   "execution_count": 3,
   "metadata": {},
   "outputs": [
    {
     "data": {
      "text/plain": [
       "((10, 10), (5,), (5, 5))"
      ]
     },
     "execution_count": 3,
     "metadata": {},
     "output_type": "execute_result"
    }
   ],
   "source": [
    "u,s,v = np.linalg.svd(data)\n",
    "u.shape, s.shape, v.shape"
   ]
  },
  {
   "cell_type": "code",
   "execution_count": 4,
   "metadata": {},
   "outputs": [
    {
     "data": {
      "text/plain": [
       "array([[0.69645708, 1.2489105 , 1.23732618, 1.09524239, 0.55986412,\n",
       "        0.62742254, 0.62685632, 0.5545267 , 0.69104454, 1.04312332],\n",
       "       [1.2489105 , 2.48466825, 2.46194991, 2.07400089, 0.96209531,\n",
       "        1.2034773 , 1.44608417, 1.12718247, 1.39336578, 1.9388964 ],\n",
       "       [1.23732618, 2.46194991, 2.65269745, 2.08324318, 0.84458654,\n",
       "        1.15506616, 1.44905239, 0.91950687, 1.41835205, 1.73927381],\n",
       "       [1.09524239, 2.07400089, 2.08324318, 1.80022991, 0.84141114,\n",
       "        0.9625008 , 1.1203703 , 0.9457585 , 1.14109955, 1.63245921],\n",
       "       [0.55986412, 0.96209531, 0.84458654, 0.84141114, 0.56452614,\n",
       "        0.43903313, 0.34774379, 0.54235279, 0.55738902, 0.7797697 ],\n",
       "       [0.62742254, 1.2034773 , 1.15506616, 0.9625008 , 0.43903313,\n",
       "        0.85460299, 0.84960296, 0.44118911, 0.63819773, 1.26129934],\n",
       "       [0.62685632, 1.44608417, 1.44905239, 1.1203703 , 0.34774379,\n",
       "        0.84960296, 1.17549635, 0.58569809, 0.7561654 , 1.29238264],\n",
       "       [0.5545267 , 1.12718247, 0.91950687, 0.9457585 , 0.54235279,\n",
       "        0.44118911, 0.58569809, 0.77777892, 0.59038048, 0.93240569],\n",
       "       [0.69104454, 1.39336578, 1.41835205, 1.14109955, 0.55738902,\n",
       "        0.63819773, 0.7561654 , 0.59038048, 0.84120684, 0.93694234],\n",
       "       [1.04312332, 1.9388964 , 1.73927381, 1.63245921, 0.7797697 ,\n",
       "        1.26129934, 1.29238264, 0.93240569, 0.93694234, 2.14784274]])"
      ]
     },
     "execution_count": 4,
     "metadata": {},
     "output_type": "execute_result"
    }
   ],
   "source": [
    "u.dot(np.diag(np.concatenate((s*s, np.array([0,0,0,0,0]))))).dot(np.linalg.inv(u))"
   ]
  },
  {
   "cell_type": "code",
   "execution_count": 5,
   "metadata": {},
   "outputs": [
    {
     "data": {
      "text/plain": [
       "array([[0.69645708, 1.2489105 , 1.23732618, 1.09524239, 0.55986412,\n",
       "        0.62742254, 0.62685632, 0.5545267 , 0.69104454, 1.04312332],\n",
       "       [1.2489105 , 2.48466825, 2.46194991, 2.07400089, 0.96209531,\n",
       "        1.2034773 , 1.44608417, 1.12718247, 1.39336578, 1.9388964 ],\n",
       "       [1.23732618, 2.46194991, 2.65269745, 2.08324318, 0.84458654,\n",
       "        1.15506616, 1.44905239, 0.91950687, 1.41835205, 1.73927381],\n",
       "       [1.09524239, 2.07400089, 2.08324318, 1.80022991, 0.84141114,\n",
       "        0.9625008 , 1.1203703 , 0.9457585 , 1.14109955, 1.63245921],\n",
       "       [0.55986412, 0.96209531, 0.84458654, 0.84141114, 0.56452614,\n",
       "        0.43903313, 0.34774379, 0.54235279, 0.55738902, 0.7797697 ],\n",
       "       [0.62742254, 1.2034773 , 1.15506616, 0.9625008 , 0.43903313,\n",
       "        0.85460299, 0.84960296, 0.44118911, 0.63819773, 1.26129934],\n",
       "       [0.62685632, 1.44608417, 1.44905239, 1.1203703 , 0.34774379,\n",
       "        0.84960296, 1.17549635, 0.58569809, 0.7561654 , 1.29238264],\n",
       "       [0.5545267 , 1.12718247, 0.91950687, 0.9457585 , 0.54235279,\n",
       "        0.44118911, 0.58569809, 0.77777892, 0.59038048, 0.93240569],\n",
       "       [0.69104454, 1.39336578, 1.41835205, 1.14109955, 0.55738902,\n",
       "        0.63819773, 0.7561654 , 0.59038048, 0.84120684, 0.93694234],\n",
       "       [1.04312332, 1.9388964 , 1.73927381, 1.63245921, 0.7797697 ,\n",
       "        1.26129934, 1.29238264, 0.93240569, 0.93694234, 2.14784274]])"
      ]
     },
     "execution_count": 5,
     "metadata": {},
     "output_type": "execute_result"
    }
   ],
   "source": [
    "np.dot(data, data.T)"
   ]
  },
  {
   "cell_type": "code",
   "execution_count": 6,
   "metadata": {},
   "outputs": [
    {
     "data": {
      "text/plain": [
       "1.1002452586295401e-30"
      ]
     },
     "execution_count": 6,
     "metadata": {},
     "output_type": "execute_result"
    }
   ],
   "source": [
    "((u.dot(np.diag(np.concatenate((s*s, np.array([0,0,0,0,0]))))).dot(np.linalg.inv(u)) - np.dot(data, data.T))**2).mean(axis=None)"
   ]
  },
  {
   "cell_type": "code",
   "execution_count": 7,
   "metadata": {},
   "outputs": [
    {
     "data": {
      "text/plain": [
       "array([[2.2210457 , 2.61593947, 1.69807934, 1.86748887, 2.20497736],\n",
       "       [2.61593947, 3.91125314, 2.34946967, 2.67787237, 2.9957546 ],\n",
       "       [1.69807934, 2.34946967, 2.50629727, 1.82852546, 2.27973285],\n",
       "       [1.86748887, 2.67787237, 1.82852546, 2.59543114, 2.0572244 ],\n",
       "       [2.20497736, 2.9957546 , 2.27973285, 2.0572244 , 2.76147943]])"
      ]
     },
     "execution_count": 7,
     "metadata": {},
     "output_type": "execute_result"
    }
   ],
   "source": [
    "v.T.dot(np.diag((s*s))).dot(np.linalg.inv(v.T))"
   ]
  },
  {
   "cell_type": "code",
   "execution_count": 8,
   "metadata": {},
   "outputs": [
    {
     "data": {
      "text/plain": [
       "array([[2.2210457 , 2.61593947, 1.69807934, 1.86748887, 2.20497736],\n",
       "       [2.61593947, 3.91125314, 2.34946967, 2.67787237, 2.9957546 ],\n",
       "       [1.69807934, 2.34946967, 2.50629727, 1.82852546, 2.27973285],\n",
       "       [1.86748887, 2.67787237, 1.82852546, 2.59543114, 2.0572244 ],\n",
       "       [2.20497736, 2.9957546 , 2.27973285, 2.0572244 , 2.76147943]])"
      ]
     },
     "execution_count": 8,
     "metadata": {},
     "output_type": "execute_result"
    }
   ],
   "source": [
    "np.dot(data.T, data)"
   ]
  },
  {
   "cell_type": "code",
   "execution_count": 9,
   "metadata": {},
   "outputs": [
    {
     "data": {
      "text/plain": [
       "6.784203784900701e-31"
      ]
     },
     "execution_count": 9,
     "metadata": {},
     "output_type": "execute_result"
    }
   ],
   "source": [
    "((v.T.dot(np.diag((s*s))).dot(np.linalg.inv(v.T)) - np.dot(data.T, data))**2).mean(axis=None)"
   ]
  },
  {
   "cell_type": "code",
   "execution_count": 10,
   "metadata": {},
   "outputs": [],
   "source": [
    "def sort_pairs(eigenvalues, eigenvectors):\n",
    "    eigenpairs = [[0,[]] for _ in range(len(eigenvalues))]\n",
    "    for i in range(len(eigenvalues)):\n",
    "        if eigenvalues[i] < 0:\n",
    "            eigenpairs[i][0] = -1*eigenvalues[i]\n",
    "            eigenpairs[i][1] = -1*eigenvectors[i]\n",
    "        else:\n",
    "            eigenpairs[i][0] = eigenvalues[i]\n",
    "            eigenpairs[i][1] = eigenvectors[i]\n",
    "    eigenpairs.sort(key=lambda eigpair: eigpair[0], reverse=True)\n",
    "    eigenvalues, eigenvectors = [], []\n",
    "    for eigenpair in eigenpairs:\n",
    "        eigenvalues.append(eigenpair[0])\n",
    "        eigenvectors.append(np.array(eigenpair[1]))\n",
    "    return np.array(eigenvalues), np.array(eigenvectors)"
   ]
  },
  {
   "cell_type": "code",
   "execution_count": 11,
   "metadata": {},
   "outputs": [],
   "source": [
    "L, V = np.linalg.eigh(np.dot(data, data.T))"
   ]
  },
  {
   "cell_type": "code",
   "execution_count": 12,
   "metadata": {},
   "outputs": [
    {
     "name": "stdout",
     "output_type": "stream",
     "text": [
      "[-1.05126879e-15 -1.42268920e-16  1.12325422e-17  1.66802958e-16\n",
      "  1.15288601e-15  1.26820531e-01  3.05264353e-01  6.60127577e-01\n",
      "  8.78905626e-01  1.20243886e+01]\n",
      "[[-0.87468386  0.06988461 -0.11461554  0.13216944 -0.03054779  0.1368683\n",
      "  -0.30287225  0.17431788  0.06510294 -0.23111901]\n",
      " [ 0.12410848  0.02906425 -0.24709873  0.03762482 -0.80385267 -0.15617669\n",
      "   0.15455981  0.01540866  0.14988536 -0.45179296]\n",
      " [ 0.24232585  0.07684227 -0.27126987  0.35306659  0.38449857  0.22422428\n",
      "  -0.15953145 -0.38926241  0.40351657 -0.44633316]\n",
      " [ 0.07502449 -0.35394558  0.34472555 -0.587609    0.01477472  0.4480864\n",
      "  -0.07511239  0.13753832  0.18868552 -0.37922713]\n",
      " [ 0.16277813 -0.39420485  0.35030557  0.48905934  0.08119845 -0.34752889\n",
      "  -0.20477237  0.49552449  0.10509223 -0.17413399]\n",
      " [ 0.01034166 -0.36964924 -0.41581897 -0.334574    0.18264374 -0.45927849\n",
      "  -0.32759095 -0.16105682 -0.38326819 -0.23229767]\n",
      " [-0.27922714 -0.27960492  0.38522532  0.20216112  0.0422215  -0.08382127\n",
      "   0.50302801 -0.49776935 -0.26947042 -0.26898168]\n",
      " [-0.0474119   0.00545015 -0.38615437 -0.06853194  0.35884741 -0.00681602\n",
      "   0.6548245   0.49596552  0.0049603  -0.2007265 ]\n",
      " [-0.06335135  0.55421678  0.3484493  -0.31383506  0.18422656 -0.54897011\n",
      "   0.0032685  -0.03242339  0.26649709 -0.24805389]\n",
      " [ 0.2105754   0.43091335  0.13723109  0.12648426  0.01961637  0.25625037\n",
      "  -0.14898643  0.18067268 -0.68794596 -0.37547672]]\n"
     ]
    }
   ],
   "source": [
    "print(L)\n",
    "print(V)"
   ]
  },
  {
   "cell_type": "code",
   "execution_count": 13,
   "metadata": {},
   "outputs": [
    {
     "name": "stdout",
     "output_type": "stream",
     "text": [
      "[1.20243886e+01 8.78905626e-01 6.60127577e-01 3.05264353e-01\n",
      " 1.26820531e-01 1.15288601e-15 1.05126879e-15 1.66802958e-16\n",
      " 1.42268920e-16 1.12325422e-17]\n",
      "[[ 0.2105754   0.43091335  0.13723109  0.12648426  0.01961637  0.25625037\n",
      "  -0.14898643  0.18067268 -0.68794596 -0.37547672]\n",
      " [-0.06335135  0.55421678  0.3484493  -0.31383506  0.18422656 -0.54897011\n",
      "   0.0032685  -0.03242339  0.26649709 -0.24805389]\n",
      " [-0.0474119   0.00545015 -0.38615437 -0.06853194  0.35884741 -0.00681602\n",
      "   0.6548245   0.49596552  0.0049603  -0.2007265 ]\n",
      " [-0.27922714 -0.27960492  0.38522532  0.20216112  0.0422215  -0.08382127\n",
      "   0.50302801 -0.49776935 -0.26947042 -0.26898168]\n",
      " [ 0.01034166 -0.36964924 -0.41581897 -0.334574    0.18264374 -0.45927849\n",
      "  -0.32759095 -0.16105682 -0.38326819 -0.23229767]\n",
      " [ 0.16277813 -0.39420485  0.35030557  0.48905934  0.08119845 -0.34752889\n",
      "  -0.20477237  0.49552449  0.10509223 -0.17413399]\n",
      " [ 0.87468386 -0.06988461  0.11461554 -0.13216944  0.03054779 -0.1368683\n",
      "   0.30287225 -0.17431788 -0.06510294  0.23111901]\n",
      " [ 0.07502449 -0.35394558  0.34472555 -0.587609    0.01477472  0.4480864\n",
      "  -0.07511239  0.13753832  0.18868552 -0.37922713]\n",
      " [-0.12410848 -0.02906425  0.24709873 -0.03762482  0.80385267  0.15617669\n",
      "  -0.15455981 -0.01540866 -0.14988536  0.45179296]\n",
      " [ 0.24232585  0.07684227 -0.27126987  0.35306659  0.38449857  0.22422428\n",
      "  -0.15953145 -0.38926241  0.40351657 -0.44633316]]\n"
     ]
    }
   ],
   "source": [
    "L, V = sort_pairs(L, V)\n",
    "print(L)\n",
    "print(V)"
   ]
  },
  {
   "cell_type": "code",
   "execution_count": 14,
   "metadata": {},
   "outputs": [
    {
     "name": "stdout",
     "output_type": "stream",
     "text": [
      "[ 0.12682053  0.30526435  0.66012758  0.87890563 12.02438859]\n",
      "[[-0.28538102  0.75203464  0.39496896 -0.19726851 -0.3976006 ]\n",
      " [-0.33896411 -0.63729867  0.24429783 -0.34259911 -0.5494526 ]\n",
      " [-0.37350509  0.00652727 -0.28779199  0.78776383 -0.39630197]\n",
      " [ 0.20237133  0.16312782 -0.77771805 -0.39695476 -0.41233083]\n",
      " [ 0.78943068 -0.04050943  0.31088341  0.25605868 -0.46145817]]\n"
     ]
    }
   ],
   "source": [
    "L, V = np.linalg.eigh(np.dot(data.T, data))\n",
    "print(L)\n",
    "print(V)"
   ]
  },
  {
   "cell_type": "code",
   "execution_count": 15,
   "metadata": {},
   "outputs": [],
   "source": [
    "L, V = sort_pairs(L, V)"
   ]
  },
  {
   "cell_type": "code",
   "execution_count": 16,
   "metadata": {},
   "outputs": [
    {
     "name": "stdout",
     "output_type": "stream",
     "text": [
      "[12.02438859  0.87890563  0.66012758  0.30526435  0.12682053]\n",
      "[[ 0.78943068 -0.04050943  0.31088341  0.25605868 -0.46145817]\n",
      " [ 0.20237133  0.16312782 -0.77771805 -0.39695476 -0.41233083]\n",
      " [-0.37350509  0.00652727 -0.28779199  0.78776383 -0.39630197]\n",
      " [-0.33896411 -0.63729867  0.24429783 -0.34259911 -0.5494526 ]\n",
      " [-0.28538102  0.75203464  0.39496896 -0.19726851 -0.3976006 ]]\n"
     ]
    }
   ],
   "source": [
    "print(L)\n",
    "print(V)"
   ]
  },
  {
   "cell_type": "code",
   "execution_count": 34,
   "metadata": {},
   "outputs": [],
   "source": [
    "def extract_eigenvectors(v, n_components):\n",
    "    V = []\n",
    "    for i in range(n_components):\n",
    "        V.append(v[:,i])\n",
    "    return np.array(V)\n",
    "\n",
    "def qr_decomposition(A, extract_vectors=False):\n",
    "    Q, R = np.linalg.qr(A)\n",
    "    U, S, V = np.linalg.svd(R.T)\n",
    "    diagonal = S*S\n",
    "    oMatrix = np.dot(Q, V.T)\n",
    "    if extract_vectors:\n",
    "        return diagonal, extract_eigenvectors(oMatrix, len(diagonal))\n",
    "    return diagonal, oMatrix \n",
    "data = np.random.random((5,2))\n",
    "\n",
    "def qrsvd_decomposition(A, gen_HHtransposed=False, extract_vectors=False):\n",
    "    Q, R = np.linalg.qr(A if gen_HHtransposed else A.T)\n",
    "    U, S, V = np.linalg.svd(R.T)\n",
    "    diagonal = S*S\n",
    "    oMatrix = np.dot(Q, V.T)\n",
    "    if extract_vectors:\n",
    "        return diagonal, extract_eigenvectors(oMatrix, len(diagonal))\n",
    "    return diagonal, oMatrix"
   ]
  },
  {
   "cell_type": "code",
   "execution_count": 41,
   "metadata": {},
   "outputs": [],
   "source": [
    "eigval, eigvec = qrsvd_decomposition(data)"
   ]
  },
  {
   "cell_type": "code",
   "execution_count": 42,
   "metadata": {},
   "outputs": [
    {
     "data": {
      "text/plain": [
       "array([2.507825  , 0.02820331])"
      ]
     },
     "execution_count": 42,
     "metadata": {},
     "output_type": "execute_result"
    }
   ],
   "source": [
    "eigval"
   ]
  },
  {
   "cell_type": "code",
   "execution_count": 43,
   "metadata": {},
   "outputs": [],
   "source": [
    "D, V = np.linalg.eigh(np.dot(data.T,data))\n"
   ]
  },
  {
   "cell_type": "code",
   "execution_count": 44,
   "metadata": {},
   "outputs": [
    {
     "data": {
      "text/plain": [
       "array([[ 0.425, -0.905],\n",
       "       [-0.905, -0.425]])"
      ]
     },
     "execution_count": 44,
     "metadata": {},
     "output_type": "execute_result"
    }
   ],
   "source": [
    "V_gen = []\n",
    "for i in range(len(D)):\n",
    "    V_gen.append(np.array(V[:,i]))\n",
    "V = np.array(V_gen)\n",
    "V.round(3)"
   ]
  },
  {
   "cell_type": "code",
   "execution_count": 45,
   "metadata": {},
   "outputs": [
    {
     "data": {
      "text/plain": [
       "array([[-0.905, -0.425],\n",
       "       [-0.425,  0.905]])"
      ]
     },
     "execution_count": 45,
     "metadata": {},
     "output_type": "execute_result"
    }
   ],
   "source": [
    "eigvec.round(3)"
   ]
  },
  {
   "cell_type": "code",
   "execution_count": 40,
   "metadata": {},
   "outputs": [
    {
     "data": {
      "text/plain": [
       "1.9136039927431575e-32"
      ]
     },
     "execution_count": 40,
     "metadata": {},
     "output_type": "execute_result"
    }
   ],
   "source": [
    "((eigvec.dot(np.diag(eigval)).dot(eigvec.T) - np.dot(data,data.T))**2).mean(axis=None)"
   ]
  },
  {
   "cell_type": "code",
   "execution_count": null,
   "metadata": {},
   "outputs": [],
   "source": [
    "eigvec.dot(np.diag(eigval)).dot(eigvec.T)"
   ]
  },
  {
   "cell_type": "code",
   "execution_count": null,
   "metadata": {},
   "outputs": [],
   "source": [
    "np.dot(data,data.T)"
   ]
  },
  {
   "cell_type": "code",
   "execution_count": 7,
   "metadata": {},
   "outputs": [],
   "source": [
    "from sklearn.decomposition import PCA"
   ]
  },
  {
   "cell_type": "code",
   "execution_count": null,
   "metadata": {},
   "outputs": [],
   "source": []
  }
 ],
 "metadata": {
  "kernelspec": {
   "display_name": "Python 3",
   "language": "python",
   "name": "python3"
  },
  "language_info": {
   "codemirror_mode": {
    "name": "ipython",
    "version": 3
   },
   "file_extension": ".py",
   "mimetype": "text/x-python",
   "name": "python",
   "nbconvert_exporter": "python",
   "pygments_lexer": "ipython3",
   "version": "3.7.1"
  }
 },
 "nbformat": 4,
 "nbformat_minor": 2
}
