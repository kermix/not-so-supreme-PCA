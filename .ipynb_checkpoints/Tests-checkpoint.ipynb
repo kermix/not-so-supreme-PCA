{
 "cells": [
  {
   "cell_type": "code",
   "execution_count": 1,
   "metadata": {},
   "outputs": [],
   "source": [
    "import nssPCA.decomposition as decompositions"
   ]
  },
  {
   "cell_type": "code",
   "execution_count": 2,
   "metadata": {},
   "outputs": [],
   "source": [
    "import pandas as pd\n",
    "import numpy as np\n",
    "from sklearn import datasets\n",
    "from sklearn.preprocessing import StandardScaler"
   ]
  },
  {
   "cell_type": "markdown",
   "metadata": {},
   "source": [
    "<h1>Test Classes</h1>\n",
    "<p><strong>n</strong> - number of samples, <strong>p</strong> - number of dimmesions</p>\n",
    "n > p"
   ]
  },
  {
   "cell_type": "code",
   "execution_count": 105,
   "metadata": {},
   "outputs": [
    {
     "data": {
      "text/plain": [
       "array([[ 0.86828953,  0.65207831, -0.48795004, -0.26726124],\n",
       "       [ 0.14471492, -1.06391725, -0.48795004, -0.26726124],\n",
       "       [-0.57885968, -0.37751902, -1.46385011, -0.26726124],\n",
       "       [-0.94064699, -0.72071813,  0.48795004, -0.26726124],\n",
       "       [ 0.50650222,  0.99527742, -0.48795004, -0.26726124],\n",
       "       [ 1.95365143,  2.02487476,  2.43975018,  2.40535118],\n",
       "       [-0.94064699,  0.3088792 , -0.48795004,  1.06904497],\n",
       "       [ 0.50650222,  0.3088792 ,  0.48795004, -0.26726124],\n",
       "       [-1.66422159, -1.40711636, -0.48795004, -0.26726124],\n",
       "       [ 0.14471492, -0.72071813,  0.48795004, -1.60356745]])"
      ]
     },
     "execution_count": 105,
     "metadata": {},
     "output_type": "execute_result"
    }
   ],
   "source": [
    "data = pd.read_csv('https://gist.githubusercontent.com/netj/8836201/raw/6f9306ad21398ea43cba4f7d537619d0e07d5ae3/iris.csv')\n",
    "data = data.select_dtypes(include='number').values[:10]\n",
    "data = StandardScaler().fit_transform(data)\n",
    "data"
   ]
  },
  {
   "cell_type": "code",
   "execution_count": 112,
   "metadata": {},
   "outputs": [
    {
     "data": {
      "text/plain": [
       "(4, 4)"
      ]
     },
     "execution_count": 112,
     "metadata": {},
     "output_type": "execute_result"
    }
   ],
   "source": [
    "cov = np.dot(data.T, data)\n",
    "cov.shape"
   ]
  },
  {
   "cell_type": "code",
   "execution_count": 113,
   "metadata": {},
   "outputs": [],
   "source": [
    "eig = decompositions.EigenDecomposition(axis=1)"
   ]
  },
  {
   "cell_type": "code",
   "execution_count": 114,
   "metadata": {},
   "outputs": [
    {
     "data": {
      "text/plain": [
       "array([0.68808946, 0.15741043, 0.12911383, 0.02538628])"
      ]
     },
     "execution_count": 114,
     "metadata": {},
     "output_type": "execute_result"
    }
   ],
   "source": [
    "eig.fit(cov)\n",
    "eig.explained_ratio"
   ]
  },
  {
   "cell_type": "code",
   "execution_count": 115,
   "metadata": {},
   "outputs": [
    {
     "data": {
      "text/plain": [
       "array([[-0.50880122, -0.54868165, -0.47474845, -0.46333969],\n",
       "       [ 0.60992283,  0.02313419,  0.08790411, -0.78723048],\n",
       "       [ 0.19490104,  0.49127967, -0.84594304,  0.07098059],\n",
       "       [-0.57543814,  0.67606031,  0.22642249, -0.40068225]])"
      ]
     },
     "execution_count": 115,
     "metadata": {},
     "output_type": "execute_result"
    }
   ],
   "source": [
    "eig.components"
   ]
  },
  {
   "cell_type": "code",
   "execution_count": 116,
   "metadata": {},
   "outputs": [],
   "source": [
    "eig.number_of_components = 3"
   ]
  },
  {
   "cell_type": "code",
   "execution_count": 117,
   "metadata": {},
   "outputs": [
    {
     "data": {
      "text/plain": [
       "array([[-0.44408391,  0.71217829,  0.88339092],\n",
       "       [ 0.86560701,  0.23115545, -0.10066824],\n",
       "       [ 1.32045559, -0.28007558,  0.92107568],\n",
       "       [ 0.76622637, -0.33710629, -0.96915554],\n",
       "       [-0.44831315,  0.49945559,  0.98148495],\n",
       "       [-4.37779416, -0.44068124, -0.51760797],\n",
       "       [ 0.04544855, -1.45105399,  0.45707237],\n",
       "       [-0.53500608,  0.56936195, -0.18128442],\n",
       "       [ 1.97430317, -0.88009586, -0.62183859],\n",
       "       [ 0.83315661,  1.37686168, -0.85246917]])"
      ]
     },
     "execution_count": 117,
     "metadata": {},
     "output_type": "execute_result"
    }
   ],
   "source": [
    "eig.transform(data)"
   ]
  },
  {
   "cell_type": "code",
   "execution_count": 99,
   "metadata": {},
   "outputs": [],
   "source": [
    "svd = decompositions.SVDecomposition(axis=1)"
   ]
  },
  {
   "cell_type": "code",
   "execution_count": 100,
   "metadata": {},
   "outputs": [
    {
     "data": {
      "text/plain": [
       "array([0.68808946, 0.15741043, 0.12911383, 0.02538628])"
      ]
     },
     "execution_count": 100,
     "metadata": {},
     "output_type": "execute_result"
    }
   ],
   "source": [
    "svd.fit(data)\n",
    "svd.explained_ratio"
   ]
  },
  {
   "cell_type": "code",
   "execution_count": 101,
   "metadata": {},
   "outputs": [
    {
     "data": {
      "text/plain": [
       "array([[-0.50880122, -0.54868165, -0.47474845, -0.46333969],\n",
       "       [ 0.60992283,  0.02313419,  0.08790411, -0.78723048],\n",
       "       [-0.19490104, -0.49127967,  0.84594304, -0.07098059],\n",
       "       [-0.57543814,  0.67606031,  0.22642249, -0.40068225]])"
      ]
     },
     "execution_count": 101,
     "metadata": {},
     "output_type": "execute_result"
    }
   ],
   "source": [
    "svd.components"
   ]
  },
  {
   "cell_type": "code",
   "execution_count": 102,
   "metadata": {},
   "outputs": [],
   "source": [
    "svd.number_of_components = 3"
   ]
  },
  {
   "cell_type": "code",
   "execution_count": 103,
   "metadata": {},
   "outputs": [
    {
     "data": {
      "text/plain": [
       "array([[-0.44408391,  0.71217829, -0.88339092],\n",
       "       [ 0.86560701,  0.23115545,  0.10066824],\n",
       "       [ 1.32045559, -0.28007558, -0.92107568],\n",
       "       [ 0.76622637, -0.33710629,  0.96915554],\n",
       "       [-0.44831315,  0.49945559, -0.98148495],\n",
       "       [-4.37779416, -0.44068124,  0.51760797],\n",
       "       [ 0.04544855, -1.45105399, -0.45707237],\n",
       "       [-0.53500608,  0.56936195,  0.18128442],\n",
       "       [ 1.97430317, -0.88009586,  0.62183859],\n",
       "       [ 0.83315661,  1.37686168,  0.85246917]])"
      ]
     },
     "execution_count": 103,
     "metadata": {},
     "output_type": "execute_result"
    }
   ],
   "source": [
    "svd.transform(data)"
   ]
  },
  {
   "cell_type": "code",
   "execution_count": 118,
   "metadata": {},
   "outputs": [],
   "source": [
    "qrsvd = decompositions.QRSVDecomposition(axis=1)"
   ]
  },
  {
   "cell_type": "code",
   "execution_count": 119,
   "metadata": {},
   "outputs": [
    {
     "data": {
      "text/plain": [
       "array([0.68808946, 0.15741043, 0.12911383, 0.02538628])"
      ]
     },
     "execution_count": 119,
     "metadata": {},
     "output_type": "execute_result"
    }
   ],
   "source": [
    "qrsvd.fit(data)\n",
    "qrsvd.explained_ratio"
   ]
  },
  {
   "cell_type": "code",
   "execution_count": 120,
   "metadata": {},
   "outputs": [
    {
     "data": {
      "text/plain": [
       "array([[-0.50880122, -0.54868165, -0.47474845, -0.46333969],\n",
       "       [ 0.60992283,  0.02313419,  0.08790411, -0.78723048],\n",
       "       [ 0.19490104,  0.49127967, -0.84594304,  0.07098059],\n",
       "       [ 0.57543814, -0.67606031, -0.22642249,  0.40068225]])"
      ]
     },
     "execution_count": 120,
     "metadata": {},
     "output_type": "execute_result"
    }
   ],
   "source": [
    "qrsvd.components"
   ]
  },
  {
   "cell_type": "code",
   "execution_count": 121,
   "metadata": {},
   "outputs": [
    {
     "data": {
      "text/plain": [
       "array([[-4.44083913e-01,  7.12178289e-01,  8.83390924e-01,\n",
       "         6.21986715e-02],\n",
       "       [ 8.65607010e-01,  2.31155448e-01, -1.00668244e-01,\n",
       "         8.05942735e-01],\n",
       "       [ 1.32045559e+00, -2.80075576e-01,  9.21075683e-01,\n",
       "         1.46489445e-01],\n",
       "       [ 7.66226371e-01, -3.37106293e-01, -9.69155536e-01,\n",
       "        -2.71604925e-01],\n",
       "       [-4.48313147e-01,  4.99455590e-01,  9.81484949e-01,\n",
       "        -3.78010837e-01],\n",
       "       [-4.37779416e+00, -4.40681242e-01, -5.17607966e-01,\n",
       "         1.66635286e-01],\n",
       "       [ 4.54485451e-02, -1.45105399e+00,  4.57072375e-01,\n",
       "        -2.11274913e-01],\n",
       "       [-5.35006083e-01,  5.69361946e-01, -1.81284419e-01,\n",
       "        -1.34929970e-01],\n",
       "       [ 1.97430317e+00, -8.80095856e-01, -6.21838591e-01,\n",
       "        -2.96502559e-03],\n",
       "       [ 8.33156612e-01,  1.37686168e+00, -8.52469174e-01,\n",
       "        -1.82480466e-01]])"
      ]
     },
     "execution_count": 121,
     "metadata": {},
     "output_type": "execute_result"
    }
   ],
   "source": [
    "qrsvd.transform(data)"
   ]
  },
  {
   "cell_type": "markdown",
   "metadata": {},
   "source": [
    "<p><strong>n</strong> - number of samples, <strong>p</strong> - number of dimmesions</p>\n",
    "n < p"
   ]
  },
  {
   "cell_type": "code",
   "execution_count": 127,
   "metadata": {},
   "outputs": [
    {
     "data": {
      "text/plain": [
       "(4, 10)"
      ]
     },
     "execution_count": 127,
     "metadata": {},
     "output_type": "execute_result"
    }
   ],
   "source": [
    "data = datasets.load_iris()['data'][:10].T\n",
    "data = StandardScaler().fit_transform(data)\n",
    "data.shape"
   ]
  },
  {
   "cell_type": "code",
   "execution_count": 128,
   "metadata": {},
   "outputs": [
    {
     "data": {
      "text/plain": [
       "(10, 10)"
      ]
     },
     "execution_count": 128,
     "metadata": {},
     "output_type": "execute_result"
    }
   ],
   "source": [
    "cov = np.dot(data.T, data)\n",
    "cov.shape"
   ]
  },
  {
   "cell_type": "code",
   "execution_count": 129,
   "metadata": {},
   "outputs": [],
   "source": [
    "eig = decompositions.EigenDecomposition(axis=1)"
   ]
  },
  {
   "cell_type": "code",
   "execution_count": 130,
   "metadata": {},
   "outputs": [
    {
     "data": {
      "text/plain": [
       "array([ 9.97874996e-01,  1.86320331e-03,  2.61800630e-04,  1.66675531e-17,\n",
       "        1.18389388e-17, -8.71396155e-18, -1.60024887e-17, -2.11890047e-17,\n",
       "       -3.94449247e-17, -7.94672535e-17])"
      ]
     },
     "execution_count": 130,
     "metadata": {},
     "output_type": "execute_result"
    }
   ],
   "source": [
    "eig.fit(cov)\n",
    "eig.explained_ratio"
   ]
  },
  {
   "cell_type": "code",
   "execution_count": 126,
   "metadata": {},
   "outputs": [
    {
     "data": {
      "text/plain": [
       "array([[-0.31645934, -0.31567289, -0.316481  , -0.31637124, -0.31612354,\n",
       "        -0.31631987, -0.31593934, -0.31655969, -0.31634405, -0.31600556],\n",
       "       [ 0.14255078, -0.50643469,  0.09238192, -0.16807446,  0.38594696,\n",
       "         0.28619222,  0.45804296, -0.01055847, -0.25695485, -0.42381372],\n",
       "       [ 0.32958258,  0.568169  ,  0.37448285, -0.51449672,  0.05289885,\n",
       "        -0.08189632, -0.11624913, -0.10163955, -0.24781831, -0.26239544],\n",
       "       [ 0.11413486, -0.18172956,  0.15593583,  0.2793642 ,  0.34209416,\n",
       "        -0.33424238, -0.51564024,  0.52908494, -0.21492835, -0.17558744],\n",
       "       [-0.05641915, -0.06565894,  0.49139541,  0.42925201,  0.11703893,\n",
       "        -0.41026945,  0.11716222, -0.60528365,  0.03902072, -0.05605374],\n",
       "       [ 0.12291209,  0.02095142,  0.01740667,  0.03237699, -0.45808061,\n",
       "        -0.47334726,  0.48098836,  0.39412005,  0.20776726, -0.3454841 ],\n",
       "       [ 0.1076941 , -0.0183712 ,  0.25904543,  0.38363855, -0.57827554,\n",
       "         0.40548479, -0.05361466,  0.04713282, -0.51829293, -0.03517516],\n",
       "       [ 0.15435745, -0.02154959, -0.157566  , -0.08454883,  0.08671726,\n",
       "        -0.37640388,  0.32731041,  0.04297516, -0.57041074,  0.60015557],\n",
       "       [ 0.20583479,  0.40622534, -0.61316041,  0.43285283,  0.19127266,\n",
       "         0.00428715,  0.07829032, -0.18300774, -0.16852785, -0.35307123],\n",
       "       [ 0.81351006, -0.34272717, -0.13069911, -0.04375859, -0.17099847,\n",
       "        -0.03340582, -0.22308624, -0.22395958,  0.24332095,  0.11070468]])"
      ]
     },
     "execution_count": 126,
     "metadata": {},
     "output_type": "execute_result"
    }
   ],
   "source": [
    "eig.components"
   ]
  },
  {
   "cell_type": "code",
   "execution_count": 131,
   "metadata": {},
   "outputs": [],
   "source": [
    "eig.number_of_components = 1"
   ]
  },
  {
   "cell_type": "code",
   "execution_count": 132,
   "metadata": {},
   "outputs": [
    {
     "data": {
      "text/plain": [
       "array([[-4.28690687],\n",
       "       [-1.5136345 ],\n",
       "       [ 1.79954368],\n",
       "       [ 4.00099768]])"
      ]
     },
     "execution_count": 132,
     "metadata": {},
     "output_type": "execute_result"
    }
   ],
   "source": [
    "eig.transform(data)"
   ]
  },
  {
   "cell_type": "code",
   "execution_count": 138,
   "metadata": {},
   "outputs": [],
   "source": [
    "svd = decompositions.SVDecomposition(axis=1)"
   ]
  },
  {
   "cell_type": "code",
   "execution_count": 139,
   "metadata": {},
   "outputs": [],
   "source": [
    "svd.fit(data)"
   ]
  },
  {
   "cell_type": "code",
   "execution_count": 140,
   "metadata": {},
   "outputs": [
    {
     "data": {
      "text/plain": [
       "array([9.97874996e-01, 1.86320331e-03, 2.61800630e-04, 1.06843043e-32,\n",
       "       0.00000000e+00, 0.00000000e+00, 0.00000000e+00, 0.00000000e+00,\n",
       "       0.00000000e+00, 0.00000000e+00])"
      ]
     },
     "execution_count": 140,
     "metadata": {},
     "output_type": "execute_result"
    }
   ],
   "source": [
    "svd.explained_ratio"
   ]
  },
  {
   "cell_type": "code",
   "execution_count": 141,
   "metadata": {},
   "outputs": [
    {
     "data": {
      "text/plain": [
       "array([[-0.31645934, -0.31567289, -0.316481  , -0.31637124, -0.31612354,\n",
       "        -0.31631987, -0.31593934, -0.31655969, -0.31634405, -0.31600556],\n",
       "       [-0.14255078,  0.50643469, -0.09238192,  0.16807446, -0.38594696,\n",
       "        -0.28619222, -0.45804296,  0.01055847,  0.25695485,  0.42381372],\n",
       "       [ 0.32958258,  0.568169  ,  0.37448285, -0.51449672,  0.05289885,\n",
       "        -0.08189632, -0.11624913, -0.10163955, -0.24781831, -0.26239544],\n",
       "       [-0.20831591, -0.03594626,  0.23394133,  0.36422264,  0.5615538 ,\n",
       "        -0.03441319, -0.59708149,  0.10022514, -0.26585227, -0.11903747],\n",
       "       [-0.22454255,  0.22131349, -0.52455559, -0.39200007,  0.62125453,\n",
       "        -0.09245613,  0.08146273, -0.05621763,  0.186499  ,  0.18081635],\n",
       "       [-0.37496021,  0.19873438, -0.05761398, -0.11631516, -0.16146448,\n",
       "         0.85887868, -0.16020249, -0.09642053, -0.05700495, -0.03325975],\n",
       "       [-0.59550297,  0.34843965,  0.1924834 ,  0.26322477, -0.01693163,\n",
       "        -0.23082249,  0.52797519, -0.1219542 , -0.2254257 , -0.14005642],\n",
       "       [-0.24952764, -0.02865733,  0.01451968, -0.28622146, -0.13199837,\n",
       "        -0.07123985, -0.00195092,  0.90584736, -0.06485594, -0.08667725],\n",
       "       [-0.28667682, -0.16194992,  0.43306692, -0.19876145,  0.04397115,\n",
       "        -0.07038847, -0.09200955, -0.12713102,  0.74319732, -0.28403739],\n",
       "       [-0.1934596 , -0.28780577,  0.43937891, -0.34115367,  0.03603071,\n",
       "        -0.02480079,  0.02881714, -0.12349456, -0.23751329,  0.70419769]])"
      ]
     },
     "execution_count": 141,
     "metadata": {},
     "output_type": "execute_result"
    }
   ],
   "source": [
    "svd.components"
   ]
  },
  {
   "cell_type": "code",
   "execution_count": 143,
   "metadata": {},
   "outputs": [],
   "source": [
    "svd.number_of_components = 1"
   ]
  },
  {
   "cell_type": "code",
   "execution_count": 144,
   "metadata": {},
   "outputs": [
    {
     "data": {
      "text/plain": [
       "array([[-4.28690687],\n",
       "       [-1.5136345 ],\n",
       "       [ 1.79954368],\n",
       "       [ 4.00099768]])"
      ]
     },
     "execution_count": 144,
     "metadata": {},
     "output_type": "execute_result"
    }
   ],
   "source": [
    "svd.transform(data)"
   ]
  },
  {
   "cell_type": "code",
   "execution_count": 68,
   "metadata": {},
   "outputs": [
    {
     "data": {
      "text/plain": [
       "(4, 10)"
      ]
     },
     "execution_count": 68,
     "metadata": {},
     "output_type": "execute_result"
    }
   ],
   "source": [
    "qrsvd = decompositions.QRSVDecomposition(axis=1)\n",
    "data.shape"
   ]
  },
  {
   "cell_type": "code",
   "execution_count": 145,
   "metadata": {},
   "outputs": [],
   "source": [
    "qrsvd.fit(data)"
   ]
  },
  {
   "cell_type": "code",
   "execution_count": 146,
   "metadata": {},
   "outputs": [
    {
     "data": {
      "text/plain": [
       "array([9.97874996e-01, 1.86320331e-03, 2.61800630e-04, 1.06843043e-32,\n",
       "       0.00000000e+00, 0.00000000e+00, 0.00000000e+00, 0.00000000e+00,\n",
       "       0.00000000e+00, 0.00000000e+00])"
      ]
     },
     "execution_count": 146,
     "metadata": {},
     "output_type": "execute_result"
    }
   ],
   "source": [
    "qrsvd.explained_ratio"
   ]
  },
  {
   "cell_type": "code",
   "execution_count": 148,
   "metadata": {},
   "outputs": [],
   "source": [
    "qrsvd.number_of_components = 1"
   ]
  },
  {
   "cell_type": "code",
   "execution_count": 149,
   "metadata": {},
   "outputs": [
    {
     "data": {
      "text/plain": [
       "array([[-4.28690687],\n",
       "       [-1.5136345 ],\n",
       "       [ 1.79954368],\n",
       "       [ 4.00099768]])"
      ]
     },
     "execution_count": 149,
     "metadata": {},
     "output_type": "execute_result"
    }
   ],
   "source": [
    "qrsvd.transform(data)"
   ]
  },
  {
   "cell_type": "code",
   "execution_count": null,
   "metadata": {},
   "outputs": [],
   "source": []
  }
 ],
 "metadata": {
  "kernelspec": {
   "display_name": "Python 3",
   "language": "python",
   "name": "python3"
  },
  "language_info": {
   "codemirror_mode": {
    "name": "ipython",
    "version": 3
   },
   "file_extension": ".py",
   "mimetype": "text/x-python",
   "name": "python",
   "nbconvert_exporter": "python",
   "pygments_lexer": "ipython3",
   "version": "3.7.3"
  }
 },
 "nbformat": 4,
 "nbformat_minor": 2
}
